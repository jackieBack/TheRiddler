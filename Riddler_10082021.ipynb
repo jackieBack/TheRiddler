{
  "nbformat": 4,
  "nbformat_minor": 0,
  "metadata": {
    "colab": {
      "name": "Riddler_10082021.ipynb",
      "provenance": [],
      "authorship_tag": "ABX9TyNNawVT72+79d6/62go+qfJ",
      "include_colab_link": true
    },
    "kernelspec": {
      "name": "python3",
      "display_name": "Python 3"
    },
    "language_info": {
      "name": "python"
    }
  },
  "cells": [
    {
      "cell_type": "markdown",
      "metadata": {
        "id": "view-in-github",
        "colab_type": "text"
      },
      "source": [
        "<a href=\"https://colab.research.google.com/github/jackieBack/TheRiddler/blob/main/Riddler_10082021.ipynb\" target=\"_parent\"><img src=\"https://colab.research.google.com/assets/colab-badge.svg\" alt=\"Open In Colab\"/></a>"
      ]
    },
    {
      "cell_type": "markdown",
      "metadata": {
        "id": "I5y6WsdVTEHl"
      },
      "source": [
        "# Riddler Express\n",
        "\n",
        "\n",
        "> Channeling your inner Marty McFly, you travel one week back in time in an attempt to win the lottery. It’s worth $10 million, and each ticket costs a dollar. Note that if you win, your ticket purchase is not refunded. All of this sounds pretty great. \n",
        "> The problem is, you’re not alone. There are 10 other time travelers who also know the winning numbers. You know for a fact that each of them will buy exactly one lottery ticket. Now, according to the lottery’s rules, the prize is evenly split among all the winning tickets (i.e., not evenly among winning people). How many tickets should you buy to maximize your profits?\n",
        "\n",
        "This is a simple optimization problem. The prize \\$10 million is evenly split between nine tickets by other time travelers and $x$ by you. Thus, the your total winnings would be represented by this function:\n",
        "\n",
        "$$ f(x) = x \\times \\frac{10,000,000}{9 + x} - x$$\n",
        "\n",
        "Let's plot this functio. We can use Numpy and Matplotlib.\n"
      ]
    },
    {
      "cell_type": "code",
      "metadata": {
        "id": "THGl5ba6S59L"
      },
      "source": [
        "import matplotlib.pyplot as plt\n",
        "import numpy as np\n",
        "from scipy import optimize"
      ],
      "execution_count": null,
      "outputs": []
    },
    {
      "cell_type": "code",
      "metadata": {
        "id": "cJu8OoeiUN2R"
      },
      "source": [
        "# 100 linearly spaced numbers\n",
        "x = np.arange(100000001)\n",
        "y = x * (100000000) / (9 + x) - x"
      ],
      "execution_count": null,
      "outputs": []
    },
    {
      "cell_type": "code",
      "metadata": {
        "id": "tZ14bgctYRuA"
      },
      "source": [
        "def func(x):\n",
        "  return x * (100000000) / (9 + x) - x"
      ],
      "execution_count": null,
      "outputs": []
    },
    {
      "cell_type": "code",
      "metadata": {
        "colab": {
          "base_uri": "https://localhost:8080/",
          "height": 280
        },
        "id": "43FSO3AjUcIL",
        "outputId": "29a7ef28-8ce7-49ed-8e50-039f5fa1776b"
      },
      "source": [
        "# setting the axes at the centre\n",
        "fig = plt.figure()\n",
        "ax = fig.add_subplot(1, 1, 1)\n",
        "\n",
        "ax.xaxis.set_ticks_position('bottom')\n",
        "ax.yaxis.set_ticks_position('left')\n",
        "ax.semilogx(x, y, 'r')\n",
        "# plot the function\n",
        "#plt.plot(x,y, 'r')\n",
        "\n",
        "# show the plot\n",
        "plt.show()"
      ],
      "execution_count": null,
      "outputs": [
        {
          "output_type": "display_data",
          "data": {
            "image/png": "[encoded data removed]",
            "text/plain": [
              "<Figure size 432x288 with 1 Axes>"
            ]
          },
          "metadata": {
            "needs_background": "light"
          }
        }
      ]
    },
    {
      "cell_type": "code",
      "metadata": {
        "colab": {
          "base_uri": "https://localhost:8080/"
        },
        "id": "mUb1ROcgVkuG",
        "outputId": "ac7b4365-3207-48b4-b706-4a80878fb672"
      },
      "source": [
        "max(y)"
      ],
      "execution_count": null,
      "outputs": [
        {
          "output_type": "execute_result",
          "data": {
            "text/plain": [
              "99940009.0"
            ]
          },
          "metadata": {},
          "execution_count": 5
        }
      ]
    },
    {
      "cell_type": "code",
      "metadata": {
        "colab": {
          "base_uri": "https://localhost:8080/"
        },
        "id": "BlpptIboaRET",
        "outputId": "1b631605-1a58-4180-fdfe-7e5ca0925cf8"
      },
      "source": [
        "np.argmax(y)"
      ],
      "execution_count": null,
      "outputs": [
        {
          "output_type": "execute_result",
          "data": {
            "text/plain": [
              "29991"
            ]
          },
          "metadata": {},
          "execution_count": 6
        }
      ]
    }
  ]
}